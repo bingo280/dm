{
 "cells": [
  {
   "cell_type": "markdown",
   "id": "dcdfb295",
   "metadata": {},
   "source": [
    "## Q2. Perform the following preprocessing tasks on the dirty_iris dataset.<br>\n",
    "**i) Calculate the number and percentage of observations that are complete.<br>\n",
    "ii) Replace all the special values in data with NA.<br>\n",
    "iii) Define these rules in a separate text file and read them.<br>\n",
    "(Use editfile function in R (package editrules). Use similar function in Python).\n",
    "Print the resulting constraint object.<br>\n",
    "    Species should be one of the following values: setosa, versicolor or virginica.<br>\n",
    "    All measured numerical properties of an iris should be positive.<br>\n",
    "    The petal length of an iris is at least 2 times its petal width.<br>\n",
    "    The sepal length of an iris cannot exceed 30 cm.<br>\n",
    "    The sepals of an iris are longer than its petals.<br>\n",
    "iv) Determine how often each rule is broken (violatedEdits). Also summarize and plot the\n",
    "result.<br>\n",
    "v) Find outliers in sepal length using boxplot and boxplot.stats<br>**"
   ]
  },
  {
   "cell_type": "code",
   "execution_count": 1,
   "id": "e908366f",
   "metadata": {},
   "outputs": [],
   "source": [
    "import pandas as pd\n",
    "import numpy as np\n",
    "import seaborn as sns\n",
    "import warnings\n",
    "warnings.filterwarnings(\"ignore\")"
   ]
  },
  {
   "cell_type": "code",
   "execution_count": 2,
   "id": "75819c9c",
   "metadata": {},
   "outputs": [],
   "source": [
    "df=pd.read_csv(\"iris_dirty.csv\")"
   ]
  },
  {
   "cell_type": "markdown",
   "id": "460e1c1a",
   "metadata": {},
   "source": [
    "# Calculate the number and percentage of observations that are complete."
   ]
  },
  {
   "cell_type": "code",
   "execution_count": 3,
   "id": "d5f56452",
   "metadata": {},
   "outputs": [
    {
     "data": {
      "text/plain": [
       "131"
      ]
     },
     "execution_count": 3,
     "metadata": {},
     "output_type": "execute_result"
    }
   ],
   "source": [
    "complete_obs=df.shape[0]-df.isnull().sum().sum()\n",
    "complete_obs"
   ]
  },
  {
   "cell_type": "code",
   "execution_count": 4,
   "id": "a66e0eac",
   "metadata": {},
   "outputs": [
    {
     "data": {
      "text/plain": [
       "87.33333333333333"
      ]
     },
     "execution_count": 4,
     "metadata": {},
     "output_type": "execute_result"
    }
   ],
   "source": [
    "complete_obs/df.shape[0]*100"
   ]
  },
  {
   "cell_type": "code",
   "execution_count": 5,
   "id": "24e06159",
   "metadata": {},
   "outputs": [],
   "source": [
    "df=df.drop('Unnamed: 0',axis=1)"
   ]
  },
  {
   "cell_type": "code",
   "execution_count": 6,
   "id": "fa20e2f3",
   "metadata": {},
   "outputs": [
    {
     "name": "stdout",
     "output_type": "stream",
     "text": [
      "<class 'pandas.core.frame.DataFrame'>\n",
      "RangeIndex: 150 entries, 0 to 149\n",
      "Data columns (total 5 columns):\n",
      " #   Column        Non-Null Count  Dtype  \n",
      "---  ------        --------------  -----  \n",
      " 0   Sepal.Length  142 non-null    float64\n",
      " 1   Sepal.Width   139 non-null    float64\n",
      " 2   Petal.Length  150 non-null    float64\n",
      " 3   Petal.Width   150 non-null    float64\n",
      " 4   Species       150 non-null    object \n",
      "dtypes: float64(4), object(1)\n",
      "memory usage: 6.0+ KB\n"
     ]
    }
   ],
   "source": [
    "df.info()"
   ]
  },
  {
   "cell_type": "markdown",
   "id": "43e8ca71",
   "metadata": {},
   "source": [
    "# Replace all the special values in data with NA."
   ]
  },
  {
   "cell_type": "code",
   "execution_count": 7,
   "id": "408a6b28",
   "metadata": {},
   "outputs": [],
   "source": [
    "df=df.replace([np.inf],np.NaN)"
   ]
  },
  {
   "cell_type": "code",
   "execution_count": 8,
   "id": "a1db020d",
   "metadata": {},
   "outputs": [
    {
     "data": {
      "text/plain": [
       "Sepal.Length     8\n",
       "Sepal.Width     11\n",
       "Petal.Length     0\n",
       "Petal.Width      0\n",
       "Species          0\n",
       "dtype: int64"
      ]
     },
     "execution_count": 8,
     "metadata": {},
     "output_type": "execute_result"
    }
   ],
   "source": [
    "df.isnull().sum()"
   ]
  },
  {
   "cell_type": "markdown",
   "id": "475649d1",
   "metadata": {},
   "source": [
    "# Define these rules in a separate text file and read them."
   ]
  },
  {
   "cell_type": "markdown",
   "id": "7267a158",
   "metadata": {},
   "source": [
    "- **Species should be one of the following values: setosa, versicolor or virginica.**\n",
    "- **All measured numerical properties of an iris should be positive.**\n",
    "- **The petal length of an iris is at least 2 times its petal width.**\n",
    "- **The sepal length of an iris cannot exceed 30 cm.**\n",
    "- **The sepals of an iris are longer than its petals.**"
   ]
  },
  {
   "cell_type": "code",
   "execution_count": 9,
   "id": "d0aa3a58",
   "metadata": {},
   "outputs": [],
   "source": [
    "df3=df.fillna(0)"
   ]
  },
  {
   "cell_type": "code",
   "execution_count": 10,
   "id": "b1a5ba9b",
   "metadata": {},
   "outputs": [],
   "source": [
    "def ruleset(df):\n",
    "    rule1=[]\n",
    "    rule2=[]\n",
    "    rule3=[]\n",
    "    rule4=[]\n",
    "    rule5=[]\n",
    "    for i in range(df.shape[0]):\n",
    "        sepal_len=df.iloc[i][0]\n",
    "        sepal_wid=df.iloc[i][1]\n",
    "        petal_len=df.iloc[i][2]\n",
    "        petal_wid=df.iloc[i][3]\n",
    "        spec=df.iloc[i][4]\n",
    "        \n",
    "        if(spec not in ['setosa','versicolor','virginica']): rule1.append(i)\n",
    "        if(sepal_len <=0 or sepal_wid <=0 or petal_len <=0 or petal_wid <=0 ): rule2.append(i)\n",
    "        if(petal_len < 2*petal_wid): rule3.append(i)\n",
    "        if(sepal_len > 30): rule4.append(i)\n",
    "        if(petal_len >= sepal_len or petal_wid >= sepal_wid): rule5.append(i)\n",
    "        \n",
    "        \n",
    "    return rule1,rule2,rule3,rule4,rule5"
   ]
  },
  {
   "cell_type": "code",
   "execution_count": 11,
   "id": "73e8cd92",
   "metadata": {},
   "outputs": [],
   "source": [
    "r1,r2,r3,r4,r5=ruleset(df3)"
   ]
  },
  {
   "cell_type": "code",
   "execution_count": 12,
   "id": "adc5257a",
   "metadata": {},
   "outputs": [
    {
     "data": {
      "text/plain": [
       "r1     5\n",
       "r2    19\n",
       "r3     0\n",
       "r4     0\n",
       "r5    19\n",
       "dtype: int64"
      ]
     },
     "execution_count": 12,
     "metadata": {},
     "output_type": "execute_result"
    }
   ],
   "source": [
    "df_freq=pd.Series({'r1':len(r1),\n",
    "        'r2':len(r2),\n",
    "         'r3':len(r3),\n",
    "         'r4':len(r4),\n",
    "         'r5':len(r5)\n",
    "        })\n",
    "df_freq"
   ]
  },
  {
   "cell_type": "markdown",
   "id": "e5ef614c",
   "metadata": {},
   "source": [
    "# Determine how often each rule is broken (violatedEdits). Also summarize and plot the result."
   ]
  },
  {
   "cell_type": "code",
   "execution_count": 13,
   "id": "2c273dd1",
   "metadata": {},
   "outputs": [
    {
     "data": {
      "text/plain": [
       "r1     5\n",
       "r2    19\n",
       "r3     0\n",
       "r4     0\n",
       "r5    19\n",
       "dtype: int64"
      ]
     },
     "execution_count": 13,
     "metadata": {},
     "output_type": "execute_result"
    }
   ],
   "source": [
    "df_freq"
   ]
  },
  {
   "cell_type": "code",
   "execution_count": 15,
   "id": "79d562e0",
   "metadata": {},
   "outputs": [
    {
     "data": {
      "text/plain": [
       "<Axes: >"
      ]
     },
     "execution_count": 15,
     "metadata": {},
     "output_type": "execute_result"
    },
    {
     "data": {
      "image/png": "[encoded data removed]",
      "text/plain": [
       "<Figure size 640x480 with 1 Axes>"
      ]
     },
     "metadata": {},
     "output_type": "display_data"
    }
   ],
   "source": [
    "df_freq.plot.bar(color='red')"
   ]
  },
  {
   "cell_type": "markdown",
   "id": "e2bfab78",
   "metadata": {},
   "source": [
    "#  Find outliers in sepal length using boxplot and boxplot.stats"
   ]
  },
  {
   "cell_type": "code",
   "execution_count": 17,
   "id": "1d0b28b2",
   "metadata": {},
   "outputs": [
    {
     "data": {
      "text/plain": [
       "<Axes: xlabel='Sepal.Length'>"
      ]
     },
     "execution_count": 17,
     "metadata": {},
     "output_type": "execute_result"
    },
    {
     "data": {
      "image/png": "[encoded data removed]",
      "text/plain": [
       "<Figure size 640x480 with 1 Axes>"
      ]
     },
     "metadata": {},
     "output_type": "display_data"
    }
   ],
   "source": [
    "sns.boxplot(x=df[\"Sepal.Length\"],color='lightblue')"
   ]
  },
  {
   "cell_type": "code",
   "execution_count": 18,
   "id": "b32efa2a",
   "metadata": {},
   "outputs": [
    {
     "name": "stdout",
     "output_type": "stream",
     "text": [
      "Q1 :  5.1\n",
      "Q3 :  6.4\n",
      "IQR :  1.3000000000000007\n",
      "lower_bound :  3.1499999999999986\n",
      "upper_bound :  8.350000000000001\n"
     ]
    }
   ],
   "source": [
    "Q1 = df['Sepal.Length'].quantile(0.25)\n",
    "print(\"Q1 : \",Q1)\n",
    "Q3 = df['Sepal.Length'].quantile(0.75)\n",
    "print(\"Q3 : \",Q3)\n",
    "IQR = Q3 - Q1\n",
    "print(\"IQR : \",IQR)\n",
    "lower_bound = Q1 - 1.5 * IQR\n",
    "\n",
    "upper_bound = Q3 + 1.5 * IQR\n",
    "print(\"lower_bound : \",lower_bound)\n",
    "print(\"upper_bound : \",upper_bound)"
   ]
  },
  {
   "cell_type": "code",
   "execution_count": null,
   "id": "1ad6052d-76f6-4c46-a0e8-0eeed9ceaad5",
   "metadata": {},
   "outputs": [],
   "source": []
  }
 ],
 "metadata": {
  "kernelspec": {
   "display_name": "Python 3 (ipykernel)",
   "language": "python",
   "name": "python3"
  },
  "language_info": {
   "codemirror_mode": {
    "name": "ipython",
    "version": 3
   },
   "file_extension": ".py",
   "mimetype": "text/x-python",
   "name": "python",
   "nbconvert_exporter": "python",
   "pygments_lexer": "ipython3",
   "version": "3.12.3"
  }
 },
 "nbformat": 4,
 "nbformat_minor": 5
}
