{
 "cells": [
  {
   "cell_type": "markdown",
   "id": "17ba5b05",
   "metadata": {},
   "source": [
    "**i) Read the data from the file “people.txt”.<br>**\n",
    "**ii) Create a ruleset E that contain rules to check for the following conditions:<br>**\n",
    "-  **The age should be in the range 0-150.<br>**\n",
    "-  **The age should be greater than yearsmarried.<br>**\n",
    "-  **The status should be married or single or widowed.<br>**\n",
    "-  **If age is less than 18 the agegroup should be child, if age is between 18 and 65 the agegroup**\n",
    "  **should be adult, if age is more than 65 the agegroup should be elderly.<br>**\n",
    "\n",
    "**iii) Check whether ruleset E is violated by the data in the file people.txt.<br>**\n",
    "**iv) Summarize the results obtained in part (iii)<br>**\n",
    "**v) Visualize the results obtained in part (iii)**"
   ]
  },
  {
   "cell_type": "code",
   "execution_count": 1,
   "id": "196be58b",
   "metadata": {},
   "outputs": [],
   "source": [
    "import pandas as pd\n",
    "import numpy as np\n",
    "import matplotlib.pyplot as plt\n",
    "import warnings\n",
    "warnings.filterwarnings(\"ignore\")"
   ]
  },
  {
   "cell_type": "markdown",
   "id": "ae72d0ae",
   "metadata": {},
   "source": [
    "# Read the data from the file “people.txt”."
   ]
  },
  {
   "cell_type": "code",
   "execution_count": 2,
   "id": "760d4605",
   "metadata": {},
   "outputs": [],
   "source": [
    "df=pd.read_csv(\"people.csv\")"
   ]
  },
  {
   "cell_type": "code",
   "execution_count": 3,
   "id": "a14e9552",
   "metadata": {},
   "outputs": [
    {
     "data": {
      "text/html": [
       "<div>\n",
       "<style scoped>\n",
       "    .dataframe tbody tr th:only-of-type {\n",
       "        vertical-align: middle;\n",
       "    }\n",
       "\n",
       "    .dataframe tbody tr th {\n",
       "        vertical-align: top;\n",
       "    }\n",
       "\n",
       "    .dataframe thead th {\n",
       "        text-align: right;\n",
       "    }\n",
       "</style>\n",
       "<table border=\"1\" class=\"dataframe\">\n",
       "  <thead>\n",
       "    <tr style=\"text-align: right;\">\n",
       "      <th></th>\n",
       "      <th>Age</th>\n",
       "      <th>agegroup</th>\n",
       "      <th>height</th>\n",
       "      <th>status</th>\n",
       "      <th>yearsmarried</th>\n",
       "    </tr>\n",
       "  </thead>\n",
       "  <tbody>\n",
       "    <tr>\n",
       "      <th>0</th>\n",
       "      <td>21</td>\n",
       "      <td>adult</td>\n",
       "      <td>6.0</td>\n",
       "      <td>single</td>\n",
       "      <td>-1</td>\n",
       "    </tr>\n",
       "    <tr>\n",
       "      <th>1</th>\n",
       "      <td>2</td>\n",
       "      <td>child</td>\n",
       "      <td>3.0</td>\n",
       "      <td>married</td>\n",
       "      <td>0</td>\n",
       "    </tr>\n",
       "    <tr>\n",
       "      <th>2</th>\n",
       "      <td>18</td>\n",
       "      <td>adult</td>\n",
       "      <td>5.7</td>\n",
       "      <td>married</td>\n",
       "      <td>20</td>\n",
       "    </tr>\n",
       "    <tr>\n",
       "      <th>3</th>\n",
       "      <td>221</td>\n",
       "      <td>elderly</td>\n",
       "      <td>5.0</td>\n",
       "      <td>widowed</td>\n",
       "      <td>2</td>\n",
       "    </tr>\n",
       "    <tr>\n",
       "      <th>4</th>\n",
       "      <td>34</td>\n",
       "      <td>child</td>\n",
       "      <td>-7.0</td>\n",
       "      <td>married</td>\n",
       "      <td>3</td>\n",
       "    </tr>\n",
       "  </tbody>\n",
       "</table>\n",
       "</div>"
      ],
      "text/plain": [
       "   Age  agegroup  height   status  yearsmarried\n",
       "0    21    adult     6.0   single            -1\n",
       "1     2    child     3.0  married             0\n",
       "2    18    adult     5.7  married            20\n",
       "3   221  elderly     5.0  widowed             2\n",
       "4    34    child    -7.0  married             3"
      ]
     },
     "execution_count": 3,
     "metadata": {},
     "output_type": "execute_result"
    }
   ],
   "source": [
    "df"
   ]
  },
  {
   "cell_type": "markdown",
   "id": "7cf501b6",
   "metadata": {},
   "source": [
    "## Create a ruleset E that contain rules to check for the following conditions:<br>\n",
    "\n",
    "- **The age should be in the range 0-150.<br>**\n",
    "- **The age should be greater than yearsmarried.<br>**\n",
    "- **The status should be married or single or widowed.<br>**\n",
    "- **If age is less than 18 the agegroup should be child<br>** \n",
    "- **if age is between 18 and 65 the agegroup should be adult.<br>**\n",
    "- **if age is more than 65 the agegroup should be elderly.**"
   ]
  },
  {
   "cell_type": "code",
   "execution_count": 4,
   "id": "be444353",
   "metadata": {},
   "outputs": [],
   "source": [
    "# RULESET\n",
    "\n",
    "def ruleset(df):\n",
    "    invalid=[]\n",
    "    for i in range(df.shape[0]):\n",
    "        \n",
    "        age=df.iloc[i][0]\n",
    "        ageGrp=df.iloc[i][1]\n",
    "        height=df.iloc[i][2]\n",
    "        status=df.iloc[i][3]\n",
    "        yearsMarried=df.iloc[i][4]\n",
    "        rules=[]\n",
    "        if(age < 0 or age > 150): rules.append('rule 1')\n",
    "        if(age < yearsMarried): rules.append('rule 2')\n",
    "        if(status not in ['single','married','widowed']): rules.append('rule 3')\n",
    "        if((age<18) & (ageGrp !='child')): rules.append('rule 4a')\n",
    "        if((age>18 & age<65) & (ageGrp!='adult')): rules.append('rule 4b')\n",
    "        if((age >=65) & (ageGrp!='elderly')): rules.append('rule 4c')\n",
    "        \n",
    "        if rules:\n",
    "            invalid.append({i:rules})\n",
    "        \n",
    "    if not invalid:\n",
    "        return \"All data is satisfies the rule set\"\n",
    "    else: \n",
    "        print(\"Index of all rows that dont satify the ruleset\",invalid)\n",
    "        return invalid"
   ]
  },
  {
   "cell_type": "markdown",
   "id": "c3c3aa38",
   "metadata": {},
   "source": [
    "## Check whether ruleset E is violated by the data in the file people.txt.\n",
    "##  Summarize the results obtained in part (iii)"
   ]
  },
  {
   "cell_type": "code",
   "execution_count": 5,
   "id": "a15563de",
   "metadata": {},
   "outputs": [
    {
     "name": "stdout",
     "output_type": "stream",
     "text": [
      "Index of all rows that dont satify the ruleset [{2: ['rule 2']}, {3: ['rule 1', 'rule 4b']}, {4: ['rule 4b']}]\n",
      "{2: ['rule 2']}\n",
      "Age                  18\n",
      "agegroup          adult\n",
      "height              5.7\n",
      "status          married\n",
      "yearsmarried         20\n",
      "Name: 2, dtype: object\n",
      "----------------------------------------------------------------------------------------------------\n",
      "{3: ['rule 1', 'rule 4b']}\n",
      "Age                 221\n",
      "agegroup        elderly\n",
      "height              5.0\n",
      "status          widowed\n",
      "yearsmarried          2\n",
      "Name: 3, dtype: object\n",
      "----------------------------------------------------------------------------------------------------\n",
      "{4: ['rule 4b']}\n",
      "Age                  34\n",
      "agegroup          child\n",
      "height             -7.0\n",
      "status          married\n",
      "yearsmarried          3\n",
      "Name: 4, dtype: object\n",
      "----------------------------------------------------------------------------------------------------\n"
     ]
    }
   ],
   "source": [
    "x=ruleset(df)\n",
    "for i in x:\n",
    "    for y in i.keys():\n",
    "        print(i)\n",
    "        print(df.iloc[y])\n",
    "#         df.append(df.iloc[y])\n",
    "        print(\"--\"*50)"
   ]
  },
  {
   "cell_type": "code",
   "execution_count": 6,
   "id": "0a987d65",
   "metadata": {},
   "outputs": [
    {
     "data": {
      "text/html": [
       "<div>\n",
       "<style scoped>\n",
       "    .dataframe tbody tr th:only-of-type {\n",
       "        vertical-align: middle;\n",
       "    }\n",
       "\n",
       "    .dataframe tbody tr th {\n",
       "        vertical-align: top;\n",
       "    }\n",
       "\n",
       "    .dataframe thead th {\n",
       "        text-align: right;\n",
       "    }\n",
       "</style>\n",
       "<table border=\"1\" class=\"dataframe\">\n",
       "  <thead>\n",
       "    <tr style=\"text-align: right;\">\n",
       "      <th></th>\n",
       "      <th>Age</th>\n",
       "      <th>agegroup</th>\n",
       "      <th>height</th>\n",
       "      <th>status</th>\n",
       "      <th>yearsmarried</th>\n",
       "    </tr>\n",
       "  </thead>\n",
       "  <tbody>\n",
       "    <tr>\n",
       "      <th>0</th>\n",
       "      <td>21</td>\n",
       "      <td>adult</td>\n",
       "      <td>6.0</td>\n",
       "      <td>single</td>\n",
       "      <td>-1</td>\n",
       "    </tr>\n",
       "    <tr>\n",
       "      <th>1</th>\n",
       "      <td>2</td>\n",
       "      <td>child</td>\n",
       "      <td>3.0</td>\n",
       "      <td>married</td>\n",
       "      <td>0</td>\n",
       "    </tr>\n",
       "    <tr>\n",
       "      <th>2</th>\n",
       "      <td>18</td>\n",
       "      <td>adult</td>\n",
       "      <td>5.7</td>\n",
       "      <td>married</td>\n",
       "      <td>20</td>\n",
       "    </tr>\n",
       "    <tr>\n",
       "      <th>3</th>\n",
       "      <td>221</td>\n",
       "      <td>elderly</td>\n",
       "      <td>5.0</td>\n",
       "      <td>widowed</td>\n",
       "      <td>2</td>\n",
       "    </tr>\n",
       "    <tr>\n",
       "      <th>4</th>\n",
       "      <td>34</td>\n",
       "      <td>child</td>\n",
       "      <td>-7.0</td>\n",
       "      <td>married</td>\n",
       "      <td>3</td>\n",
       "    </tr>\n",
       "  </tbody>\n",
       "</table>\n",
       "</div>"
      ],
      "text/plain": [
       "   Age  agegroup  height   status  yearsmarried\n",
       "0    21    adult     6.0   single            -1\n",
       "1     2    child     3.0  married             0\n",
       "2    18    adult     5.7  married            20\n",
       "3   221  elderly     5.0  widowed             2\n",
       "4    34    child    -7.0  married             3"
      ]
     },
     "execution_count": 6,
     "metadata": {},
     "output_type": "execute_result"
    }
   ],
   "source": [
    "df"
   ]
  },
  {
   "cell_type": "markdown",
   "id": "59d8f069",
   "metadata": {},
   "source": [
    "# visualize the results obtained in part (iii)"
   ]
  },
  {
   "cell_type": "code",
   "execution_count": 7,
   "id": "fe983140",
   "metadata": {},
   "outputs": [
    {
     "data": {
      "text/plain": [
       "<Axes: >"
      ]
     },
     "execution_count": 7,
     "metadata": {},
     "output_type": "execute_result"
    },
    {
     "data": {
      "image/png": "[encoded data removed]",
      "text/plain": [
       "<Figure size 640x480 with 1 Axes>"
      ]
     },
     "metadata": {},
     "output_type": "display_data"
    }
   ],
   "source": [
    "df.plot(marker='o')"
   ]
  },
  {
   "cell_type": "code",
   "execution_count": 8,
   "id": "577ceee0",
   "metadata": {},
   "outputs": [
    {
     "data": {
      "text/plain": [
       "array([[<Axes: >],\n",
       "       [<Axes: >],\n",
       "       [<Axes: >]], dtype=object)"
      ]
     },
     "execution_count": 8,
     "metadata": {},
     "output_type": "execute_result"
    },
    {
     "data": {
      "image/png": "[encoded data removed]",
      "text/plain": [
       "<Figure size 640x480 with 3 Axes>"
      ]
     },
     "metadata": {},
     "output_type": "display_data"
    }
   ],
   "source": [
    "df.plot(subplots=True, layout=(3,1),marker='*')"
   ]
  },
  {
   "cell_type": "code",
   "execution_count": null,
   "id": "0e46f017-d3a0-4832-a807-f7cb59d24ba0",
   "metadata": {},
   "outputs": [],
   "source": []
  }
 ],
 "metadata": {
  "kernelspec": {
   "display_name": "Python 3 (ipykernel)",
   "language": "python",
   "name": "python3"
  },
  "language_info": {
   "codemirror_mode": {
    "name": "ipython",
    "version": 3
   },
   "file_extension": ".py",
   "mimetype": "text/x-python",
   "name": "python",
   "nbconvert_exporter": "python",
   "pygments_lexer": "ipython3",
   "version": "3.12.3"
  }
 },
 "nbformat": 4,
 "nbformat_minor": 5
}
